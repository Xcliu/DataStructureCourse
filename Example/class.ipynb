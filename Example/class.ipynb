{
 "cells": [
  {
   "cell_type": "code",
   "execution_count": 3,
   "metadata": {},
   "outputs": [
    {
     "name": "stdout",
     "output_type": "stream",
     "text": [
      "[(1, -1), (2, -2), (3, -3)]\n",
      "1 -1\n",
      "2 -2\n",
      "3 -3\n"
     ]
    }
   ],
   "source": [
    "v1 = [1,2,3]\n",
    "v2 = [-1,-2,-3]\n",
    "t = zip(v1,v2)\n",
    "print t\n",
    "for i,j in t:\n",
    "    print i,j"
   ]
  },
  {
   "cell_type": "code",
   "execution_count": null,
   "metadata": {
    "collapsed": true
   },
   "outputs": [],
   "source": [
    ""
   ]
  },
  {
   "cell_type": "code",
   "execution_count": 7,
   "metadata": {
    "collapsed": true
   },
   "outputs": [],
   "source": [
    "def creat_vec(a,b,c):\n",
    "    return [a,b,c]\n",
    "def add(v1, v2):\n",
    "    return [ i+j for i,j in zip(v1,v2) ]\n",
    "def translation(v1, inc):\n",
    "    v1[0] += inc\n",
    "    v1[1] += inc\n",
    "    v1[2] += inc"
   ]
  },
  {
   "cell_type": "code",
   "execution_count": 8,
   "metadata": {},
   "outputs": [
    {
     "name": "stdout",
     "output_type": "stream",
     "text": [
      "[3.0, 5.0, 7.0]\n",
      "[3.0, 4.0, 5.0]\n"
     ]
    }
   ],
   "source": [
    "a = creat_vec(1.,2.,3.)\n",
    "b = creat_vec(2.,3.,4.)\n",
    "print add(a,b)\n",
    "translation(b,1.0)\n",
    "print b"
   ]
  },
  {
   "cell_type": "code",
   "execution_count": null,
   "metadata": {
    "collapsed": true
   },
   "outputs": [],
   "source": [
    "class Vec(object):\n",
    "    def __init__(self,a,b,c):\n",
    "        self.pos = [a,b,c]\n",
    "    def add(self, v):\n",
    "        return [ i+j for i,j in zip(self.pos, v.pos) ]\n",
    "    def translation(self, inc):\n",
    "        self.pos[0] += inc\n",
    "        self.pos[1] += inc\n",
    "        self.pos[2] += inc\n",
    "        \n",
    "class EVec(Vec):\n",
    "    def __init__(self,a,b,c):\n",
    "        super(EVec,self).__init__(a,b,c)\n",
    "    def norm(self):\n",
    "        return self.pos[0]*self.pos[0] + self.pos[1]*self.pos[1] +self.pos[2]*self.pos[2]\n",
    "    \n",
    "class MVec(Vec):\n",
    "    def __init__(self,a,b,c):\n",
    "        super(MVec,self).__init__(a,b,c)\n",
    "    def norm(self):\n",
    "        return -1.0 * self.pos[0]*self.pos[0] + self.pos[1]*self.pos[1] +self.pos[2]*self.pos[2]"
   ]
  },
  {
   "cell_type": "code",
   "execution_count": 32,
   "metadata": {},
   "outputs": [],
   "source": [
    "vec = Vec(1.,2.,3.)"
   ]
  },
  {
   "cell_type": "code",
   "execution_count": 33,
   "metadata": {},
   "outputs": [
    {
     "data": {
      "text/plain": [
       "[1.0, 2.0, 3.0]"
      ]
     },
     "execution_count": 33,
     "metadata": {},
     "output_type": "execute_result"
    }
   ],
   "source": [
    "vec.pos"
   ]
  },
  {
   "cell_type": "code",
   "execution_count": 34,
   "metadata": {
    "collapsed": true
   },
   "outputs": [],
   "source": [
    "vec2 = Vec(2.,3.,4.)"
   ]
  },
  {
   "cell_type": "code",
   "execution_count": 35,
   "metadata": {},
   "outputs": [
    {
     "data": {
      "text/plain": [
       "[2.0, 3.0, 4.0]"
      ]
     },
     "execution_count": 35,
     "metadata": {},
     "output_type": "execute_result"
    }
   ],
   "source": [
    "vec2.pos"
   ]
  },
  {
   "cell_type": "code",
   "execution_count": 36,
   "metadata": {},
   "outputs": [
    {
     "data": {
      "text/plain": [
       "[3.0, 5.0, 7.0]"
      ]
     },
     "execution_count": 36,
     "metadata": {},
     "output_type": "execute_result"
    }
   ],
   "source": [
    "vec.add(vec2)"
   ]
  },
  {
   "cell_type": "code",
   "execution_count": 37,
   "metadata": {},
   "outputs": [
    {
     "data": {
      "text/plain": [
       "[3.0, 5.0, 7.0]"
      ]
     },
     "execution_count": 37,
     "metadata": {},
     "output_type": "execute_result"
    }
   ],
   "source": [
    "vec2.add(vec)"
   ]
  },
  {
   "cell_type": "code",
   "execution_count": 39,
   "metadata": {},
   "outputs": [
    {
     "name": "stdout",
     "output_type": "stream",
     "text": [
      "[1.0, 2.0, 3.0]\n"
     ]
    }
   ],
   "source": [
    "print vec.pos"
   ]
  },
  {
   "cell_type": "code",
   "execution_count": 40,
   "metadata": {},
   "outputs": [
    {
     "name": "stdout",
     "output_type": "stream",
     "text": [
      "[2.0, 3.0, 4.0]\n"
     ]
    }
   ],
   "source": [
    "vec.translation(1.0)\n",
    "print vec.pos"
   ]
  },
  {
   "cell_type": "code",
   "execution_count": 42,
   "metadata": {},
   "outputs": [
    {
     "data": {
      "text/plain": [
       "dict_proxy({'__class__': <attribute '__class__' of 'object' objects>,\n",
       "            '__delattr__': <slot wrapper '__delattr__' of 'object' objects>,\n",
       "            '__doc__': 'The most base type',\n",
       "            '__format__': <method '__format__' of 'object' objects>,\n",
       "            '__getattribute__': <slot wrapper '__getattribute__' of 'object' objects>,\n",
       "            '__hash__': <slot wrapper '__hash__' of 'object' objects>,\n",
       "            '__init__': <slot wrapper '__init__' of 'object' objects>,\n",
       "            '__new__': <function __new__>,\n",
       "            '__reduce__': <method '__reduce__' of 'object' objects>,\n",
       "            '__reduce_ex__': <method '__reduce_ex__' of 'object' objects>,\n",
       "            '__repr__': <slot wrapper '__repr__' of 'object' objects>,\n",
       "            '__setattr__': <slot wrapper '__setattr__' of 'object' objects>,\n",
       "            '__sizeof__': <method '__sizeof__' of 'object' objects>,\n",
       "            '__str__': <slot wrapper '__str__' of 'object' objects>,\n",
       "            '__subclasshook__': <method '__subclasshook__' of 'object' objects>})"
      ]
     },
     "execution_count": 42,
     "metadata": {},
     "output_type": "execute_result"
    }
   ],
   "source": [
    "object.__dict__"
   ]
  },
  {
   "cell_type": "code",
   "execution_count": 46,
   "metadata": {},
   "outputs": [
    {
     "name": "stdout",
     "output_type": "stream",
     "text": [
      "14.0\n",
      "12.0\n"
     ]
    }
   ],
   "source": [
    "vecE = EVec(1.,2.,3.)\n",
    "vecM = MVec(-1.,-2.,-3.)\n",
    "print vecE.norm()\n",
    "print vecM.norm()"
   ]
  },
  {
   "cell_type": "code",
   "execution_count": 47,
   "metadata": {
    "collapsed": true
   },
   "outputs": [],
   "source": [
    "def func(v):\n",
    "    print v.norm()"
   ]
  },
  {
   "cell_type": "code",
   "execution_count": 48,
   "metadata": {},
   "outputs": [
    {
     "name": "stdout",
     "output_type": "stream",
     "text": [
      "14.0\n"
     ]
    }
   ],
   "source": [
    "func(vecE)"
   ]
  },
  {
   "cell_type": "code",
   "execution_count": 49,
   "metadata": {},
   "outputs": [
    {
     "name": "stdout",
     "output_type": "stream",
     "text": [
      "12.0\n"
     ]
    }
   ],
   "source": [
    "func(vecM)"
   ]
  },
  {
   "cell_type": "code",
   "execution_count": null,
   "metadata": {
    "collapsed": true
   },
   "outputs": [],
   "source": [
    ""
   ]
  }
 ],
 "metadata": {
  "kernelspec": {
   "display_name": "Python 2",
   "language": "python",
   "name": "python2"
  },
  "language_info": {
   "codemirror_mode": {
    "name": "ipython",
    "version": 2.0
   },
   "file_extension": ".py",
   "mimetype": "text/x-python",
   "name": "python",
   "nbconvert_exporter": "python",
   "pygments_lexer": "ipython2",
   "version": "2.7.11"
  },
  "toc": {
   "colors": {
    "hover_highlight": "#DAA520",
    "navigate_num": "#000000",
    "navigate_text": "#333333",
    "running_highlight": "#FF0000",
    "selected_highlight": "#FFD700",
    "sidebar_border": "#EEEEEE",
    "wrapper_background": "#FFFFFF"
   },
   "moveMenuLeft": true,
   "nav_menu": {
    "height": "12px",
    "width": "252px"
   },
   "navigate_menu": true,
   "number_sections": true,
   "sideBar": true,
   "threshold": 4.0,
   "toc_cell": false,
   "toc_section_display": "block",
   "toc_window_display": false,
   "widenNotebook": false
  }
 },
 "nbformat": 4,
 "nbformat_minor": 0
}